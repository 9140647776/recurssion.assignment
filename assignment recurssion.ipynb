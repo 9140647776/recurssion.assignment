{
 "cells": [
  {
   "cell_type": "code",
   "execution_count": 2,
   "id": "1eaf1326-6f79-4ffb-8de5-ae9614df50f4",
   "metadata": {},
   "outputs": [
    {
     "name": "stdout",
     "output_type": "stream",
     "text": [
      "3\n"
     ]
    }
   ],
   "source": [
    "def editdistance(word1, word2, h, y):\n",
    "    if h == 0:\n",
    "        return y\n",
    "    if y == 0:\n",
    "        return h\n",
    "    if word1[h-1] == word2[y-1]:\n",
    "        return editdistance(word1, word2, h-1, y-1)\n",
    "    return 1 + min(editdistance(word1, word2, h, y-1), editdistance(word1, word2, h-1, y), editdistance(word1, word2, h-1, y-1))\n",
    "word1 = \"horse\"\n",
    "word2 = \"ros\"\n",
    "print (editdistance(word1, word2, len(word1), len(word2)))"
   ]
  },
  {
   "cell_type": "code",
   "execution_count": 8,
   "id": "561de54e-e9ba-4df0-a61d-c79d95532a63",
   "metadata": {},
   "outputs": [
    {
     "name": "stdout",
     "output_type": "stream",
     "text": [
      "the maximum element is 22\n"
     ]
    }
   ],
   "source": [
    "def findmaximum(arr, low, high):\n",
    "    max = arr[low]\n",
    "    i = low\n",
    "    for i in range(high+1):\n",
    "        if arr[i] >max:\n",
    "            max = arr[i]\n",
    "    return max\n",
    "arr = [13,1,-3,22,5]\n",
    "n = len(arr)\n",
    "print(\"the maximum element is %d\"% findmaximum(arr, 0, n-1))"
   ]
  },
  {
   "cell_type": "code",
   "execution_count": 9,
   "id": "ccc82425-f1dc-4c0c-a225-ce8550388fa7",
   "metadata": {},
   "outputs": [
    {
     "name": "stdout",
     "output_type": "stream",
     "text": [
      "120\n"
     ]
    }
   ],
   "source": [
    "def _findsum(arr, n):\n",
    "    if n <= 0:\n",
    "        return 0\n",
    "    else:\n",
    "        return _findsum(arr, n-1) + arr[n-1]\n",
    "arr =[]\n",
    "arr = [92,23,15,-20,10]\n",
    "n = len(arr)\n",
    "ans =_findsum(arr,n)\n",
    "print (ans)"
   ]
  },
  {
   "cell_type": "code",
   "execution_count": 10,
   "id": "a73bdb7b-a72b-4567-95e5-4e513ea6ab1d",
   "metadata": {},
   "outputs": [
    {
     "name": "stdout",
     "output_type": "stream",
     "text": [
      "True\n",
      "False\n"
     ]
    }
   ],
   "source": [
    "def isarmstrong(val: int) -> bool:\n",
    "    \"\"\"val will be tested to see if its an armstrong number.\n",
    "    arguments:\n",
    "        val {int} -- positive integer only.\n",
    "    returns:\n",
    "        bool -- true is/false isn't\"\"\"\n",
    "    parts = [int(_) for _ in str(val)]\n",
    "    counter = 0\n",
    "    for _ in parts:\n",
    "        counter += _**3\n",
    "    return (counter == val)\n",
    "print(isarmstrong(153))\n",
    "print(isarmstrong(134))\n",
    "    "
   ]
  }
 ],
 "metadata": {
  "kernelspec": {
   "display_name": "Python 3 (ipykernel)",
   "language": "python",
   "name": "python3"
  },
  "language_info": {
   "codemirror_mode": {
    "name": "ipython",
    "version": 3
   },
   "file_extension": ".py",
   "mimetype": "text/x-python",
   "name": "python",
   "nbconvert_exporter": "python",
   "pygments_lexer": "ipython3",
   "version": "3.10.8"
  }
 },
 "nbformat": 4,
 "nbformat_minor": 5
}
